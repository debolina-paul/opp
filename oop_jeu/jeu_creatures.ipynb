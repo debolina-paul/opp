{
 "metadata": {
  "language_info": {
   "codemirror_mode": {
    "name": "ipython",
    "version": 3
   },
   "file_extension": ".py",
   "mimetype": "text/x-python",
   "name": "python",
   "nbconvert_exporter": "python",
   "pygments_lexer": "ipython3",
   "version": "3.8.5-final"
  },
  "orig_nbformat": 2,
  "kernelspec": {
   "name": "python3",
   "display_name": "Python 3.8.5 32-bit",
   "metadata": {
    "interpreter": {
     "hash": "c5e56fbcdc31a633ac0299573016abf27dbdfacef16b1340a435c1336c93ab79"
    }
   }
  }
 },
 "nbformat": 4,
 "nbformat_minor": 2,
 "cells": [
  {
   "cell_type": "code",
   "execution_count": 1,
   "metadata": {},
   "outputs": [],
   "source": [
    "from random import randrange"
   ]
  },
  {
   "cell_type": "code",
   "execution_count": 2,
   "metadata": {},
   "outputs": [],
   "source": [
    "# jeu de créatures\n",
    "#**********************************************************************classe Case********************************************\n",
    "class Case:\n",
    "    def __init__(self,x,y):\n",
    "        self.x=x\n",
    "        self.y=y\n",
    "\n",
    "    def adjacente(self,jeu): # liste case adjacente du jeu\n",
    "        liste=[]\n",
    "        for caz in jeu.listesDesCases:\n",
    "            if (self!=caz) and (self.x-2 <caz.x<self.x+2)  and (self.y-2<caz.y<self.y+2):\n",
    "                liste.append(caz)\n",
    "        return liste   \n",
    "        \n",
    "    def _str_(self): \n",
    "        return \"(\" + str(self.x) + \", \" + str(self.y) + \")\"\n",
    "\n",
    "    def __repr__(self):\n",
    "        return str(self)"
   ]
  },
  {
   "cell_type": "code",
   "execution_count": 3,
   "metadata": {},
   "outputs": [
    {
     "output_type": "stream",
     "name": "stdout",
     "text": [
      "2\n"
     ]
    }
   ],
   "source": [
    "c2=Case(2,3)\n",
    "print(c2.x)\n"
   ]
  },
  {
   "cell_type": "code",
   "execution_count": 4,
   "metadata": {},
   "outputs": [],
   "source": [
    "#****************************************************************classe Créature*****************************************************************\n",
    "class Creature:\n",
    "    def __init__(self, nom, position):\n",
    "        self.nom=nom\n",
    "        self.position=position\n",
    "\n",
    "    def choisirCible(self,jeu): # renvoie case adjacente si elle est occupé sinon une autre aléatoire\n",
    "        for adj in self.position.adjacente(jeu):\n",
    "            for creat in jeu.listeDesCreatures:\n",
    "                if adj==creat.position:\n",
    "                    return adj\n",
    "        return self.position.adjacente(jeu)[randrange(len(self.position.adjacente(jeu)))]"
   ]
  },
  {
   "cell_type": "code",
   "execution_count": 8,
   "metadata": {},
   "outputs": [],
   "source": [
    "#*****************************************classe Jeu****************** \n",
    "class Jeu:\n",
    "    def __init__(self, listesDesCases, listeDesCreatures):\n",
    "        self.listesDesCases=listesDesCases\n",
    "        self.listeDesCreatures=listeDesCreatures\n",
    "        self.tour=1\n",
    "        self.actif=self.listeDesCreatures[0]\n",
    "\n",
    "    def estOccupee(self,case): # vérifie si case est occupée\n",
    "        for creatur in self.listeDesCreatures:\n",
    "            if case==creatur.position:\n",
    "                return True\n",
    "        return False   \n",
    "              \n",
    "    def deplacer(self, creature, case): #deplace creature sur case\n",
    "        if case in creature.position.adjacente(self):\n",
    "            if self.estOccupee(case):         \n",
    "                self.tour=0\n",
    "                creature.position=case\n",
    "                print(\"bravo vainqueur\",creature.nom )\n",
    "                \n",
    "                return \"bravo\"+creature.nom+\"vainqueur\"\n",
    "            creature.position=case \n",
    "            print('tour',self.tour, ': pas de chance', creature.nom)           \n",
    "            self.tour+=1\n",
    "            lCreat=self.listeDesCreatures\n",
    "            self.actif=lCreat[0]if lCreat.index(self.actif)==len(self.listeDesCreatures)-1 else lCreat[lCreat.index(self.actif)+1]\n"
   ]
  },
  {
   "cell_type": "code",
   "execution_count": 10,
   "metadata": {},
   "outputs": [
    {
     "output_type": "stream",
     "name": "stdout",
     "text": [
      "tour 1 : pas de chance toto\ntour 2 : pas de chance titi\ntour 3 : pas de chance toto\ntour 4 : pas de chance titi\ntour 5 : pas de chance toto\ntour 6 : pas de chance titi\ntour 7 : pas de chance toto\ntour 8 : pas de chance titi\ntour 9 : pas de chance toto\ntour 10 : pas de chance titi\ntour 11 : pas de chance toto\ntour 12 : pas de chance titi\ntour 13 : pas de chance toto\ntour 14 : pas de chance titi\ntour 15 : pas de chance toto\ntour 16 : pas de chance titi\ntour 17 : pas de chance toto\nbravo vainqueur titi\n"
     ]
    }
   ],
   "source": [
    "# initialisation d un plateau de (4,4) et liste de 2 créatures\n",
    "\n",
    "listeCase=[Case(x,y)for x in range(1,5) for y in range(1,5)] # initialiser le plateau\n",
    "C1=Creature('toto', Case(1,1)) \n",
    "C2=Creature('titi', Case(4,4))\n",
    "listeCreat=[C1, C2]\n",
    "jeu=Jeu(listeCase,listeCreat)\n",
    "\n",
    "while(jeu.tour!=0):\n",
    "    jeu.deplacer(jeu.actif, jeu.actif.choisirCible(jeu) )\n"
   ]
  },
  {
   "cell_type": "code",
   "execution_count": 2,
   "metadata": {},
   "outputs": [
    {
     "output_type": "execute_result",
     "data": {
      "text/plain": [
       "'def est_occupe(self, position):\\n      return next((True for monstre in self.liste_des_creatures if monstre.nom != self.actif.nom and monstre.position == position), False)'"
      ]
     },
     "metadata": {},
     "execution_count": 2
    }
   ],
   "source": [
    "# Autre solution occupée:\n",
    "\"\"\"def est_occupe(self, position):\n",
    "      return next((True for monstre in self.liste_des_creatures if monstre.nom != self.actif.nom and monstre.position == position), False)\"\"\"\n",
    "\n",
    "\n"
   ]
  },
  {
   "cell_type": "code",
   "execution_count": 37,
   "metadata": {},
   "outputs": [],
   "source": [
    "def adjacente (case):\n",
    "    damier=[(x,y) for x in range(1,6) for y in range(1,6)]\n",
    "    liste=[]\n",
    "    for caz in damier:\n",
    "        if (caz!=case and(case.x-2<caz[0]<case.x+2)  and (case.y-2<caz[1]<case.y+2)  ):\n",
    "            liste.append(caz)\n",
    "    return liste       "
   ]
  },
  {
   "cell_type": "code",
   "execution_count": 38,
   "metadata": {},
   "outputs": [
    {
     "output_type": "execute_result",
     "data": {
      "text/plain": [
       "[(1, 4), (1, 5), (2, 4), (2, 5)]"
      ]
     },
     "metadata": {},
     "execution_count": 38
    }
   ],
   "source": [
    "c1=Case(1,5)\n",
    "adjacente(c1)"
   ]
  },
  {
   "cell_type": "code",
   "execution_count": null,
   "metadata": {},
   "outputs": [],
   "source": []
  }
 ]
}