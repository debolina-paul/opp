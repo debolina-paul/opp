{
 "metadata": {
  "language_info": {
   "codemirror_mode": {
    "name": "ipython",
    "version": 3
   },
   "file_extension": ".py",
   "mimetype": "text/x-python",
   "name": "python",
   "nbconvert_exporter": "python",
   "pygments_lexer": "ipython3",
   "version": "3.8.5-final"
  },
  "orig_nbformat": 2,
  "kernelspec": {
   "name": "python3",
   "display_name": "Python 3.8.5 32-bit",
   "metadata": {
    "interpreter": {
     "hash": "c5e56fbcdc31a633ac0299573016abf27dbdfacef16b1340a435c1336c93ab79"
    }
   }
  }
 },
 "nbformat": 4,
 "nbformat_minor": 2,
 "cells": [
  {
   "cell_type": "code",
   "execution_count": 1,
   "metadata": {},
   "outputs": [],
   "source": [
    "from random import randrange"
   ]
  },
  {
   "cell_type": "code",
   "execution_count": 35,
   "metadata": {},
   "outputs": [],
   "source": [
    "class Formulaire:\n",
    "    def __init__(self, nom, prenom, naissance):\n",
    "        self.nom=str(nom).upper()\n",
    "        self.prenom=str(prenom).upper()\n",
    "        self.naissance=naissance\n",
    "\n",
    "    def _set_naissance(self, naissance):\n",
    "          \n",
    "         if type(naissance)==list:\n",
    "             naissance=''.join(naissance)\n",
    "         na = str(naissance)     \n",
    "         if na.isnumeric():\n",
    "             self._naissance=int(na)\n",
    "         else: \n",
    "             self.naissance=1900 \n",
    "    def _get_naissance(self)    :\n",
    "          print(\"coucou je suis né(e) en :\",self._naissance)\n",
    "          return self._naissance\n",
    "    naissance=property(_get_naissance, _set_naissance)     \n",
    "\n",
    "    def _set_nom(self, nom)   :\n",
    "        if nom.isnumeric():\n",
    "            self._nom='erreur'\n",
    "        else:\n",
    "            self._nom=nom  \n",
    "    def _get_nom(self)        :\n",
    "        return self._nom\n",
    "    nom=property(_get_nom, _set_nom)    \n",
    "\n",
    "    def age(self):\n",
    "          return 2020-self.naissance\n",
    "    def majeur (self):\n",
    "          return self.age() >=18\n",
    "    def memeFamille(self, Formulaire):\n",
    "         return self.nom==Formulaire.nom "
   ]
  },
  {
   "cell_type": "code",
   "execution_count": null,
   "metadata": {},
   "outputs": [],
   "source": [
    "\n",
    "#solution RAfik\n",
    "class formulaire:\n",
    "    def __init__(self, nom, prenom, naissance):\n",
    "        self.nom = nom\n",
    "        self.prenom = prenom\n",
    "        self.naissance = naissance\n",
    "    \n",
    "    def _set_nom(self, nom):\n",
    "        self._nom = str(nom).upper()\n",
    "        \n",
    "    def _set_prenom(self, prenom):\n",
    "        self._prenom = str(prenom).upper()\n",
    "    \n",
    "    def _set_naissance(self, naissance):\n",
    "        self._naissance = 1900\n",
    "        if str(type(naissance)) == \"<class 'list'>\":\n",
    "            naissance = \"\".join((str(s) for s in naissance))\n",
    "        if (str(type(naissance)) == \"<class 'str'>\"\n",
    "               and naissance.isnumeric()):\n",
    "            naissance = int(naissance)\n",
    "        if str(type(naissance) == \"<class 'int'>\"):\n",
    "            self._naissance = naissance\n",
    "            \n",
    "    def _get_nom(self):\n",
    "        return self._nom\n",
    "    \n",
    "    def _get_prenom(self):\n",
    "        return self._prenom\n",
    "    \n",
    "    def _get_naissance(self):\n",
    "        print(\"valeur de naissance : \"\n",
    "             + str(self._naissance))\n",
    "        return self._naissance\n",
    "    \n",
    "    nom = property(_get_nom, _set_nom)\n",
    "    prenom = property(_get_prenom, _set_prenom)\n",
    "    naissance = property(_get_naissance, _set_naissance)\n",
    "    \n",
    "    \n",
    "    def age(self):\n",
    "        return 2020 - self._naissance\n",
    "    def majeur(self):\n",
    "        return self.age() >= 18"
   ]
  },
  {
   "cell_type": "code",
   "execution_count": 37,
   "metadata": {},
   "outputs": [
    {
     "output_type": "stream",
     "name": "stdout",
     "text": [
      "erreur\n"
     ]
    }
   ],
   "source": [
    "moi=Formulaire('125', 'titi',123)\n",
    "print(moi.nom)"
   ]
  },
  {
   "cell_type": "code",
   "execution_count": 10,
   "metadata": {},
   "outputs": [
    {
     "output_type": "stream",
     "name": "stdout",
     "text": [
      "coucou je suis né(e) en : 1900\n120\n"
     ]
    }
   ],
   "source": [
    "ad = Formulaire('toto', 'titi', 'nais')\n",
    "print(ad.age())"
   ]
  },
  {
   "cell_type": "code",
   "execution_count": 23,
   "metadata": {},
   "outputs": [
    {
     "output_type": "stream",
     "name": "stdout",
     "text": [
      "1995\n"
     ]
    }
   ],
   "source": [
    "l=['1', '9' , '9', '5']\n",
    "annee=\"\".join(l)\n",
    "print(annee)\n"
   ]
  },
  {
   "cell_type": "code",
   "execution_count": 26,
   "metadata": {},
   "outputs": [
    {
     "output_type": "stream",
     "name": "stdout",
     "text": [
      "couioiuiu\n"
     ]
    }
   ],
   "source": []
  },
  {
   "cell_type": "code",
   "execution_count": null,
   "metadata": {},
   "outputs": [],
   "source": []
  }
 ]
}